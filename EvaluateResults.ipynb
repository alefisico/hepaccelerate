{
 "cells": [
  {
   "cell_type": "code",
   "execution_count": 36,
   "metadata": {},
   "outputs": [],
   "source": [
    "import numpy as np\n",
    "import json\n",
    "import matplotlib.pyplot as plt\n",
    "import os\n",
    "from itertools import combinations\n",
    "\n",
    "run_analysis = False\n",
    "\n",
    "#mc_folder = \"results_studyBoostedStatistics/mc/\"\n",
    "mc_folder = \"results/new\"\n",
    "data_folder = \"/work/creissel/GPUanalysis/hepaccelerate/fix2_data/\"\n",
    "\n",
    "sample_list = [\n",
    "#     \"ttHTobb_M125_TuneCP5_13TeV-powheg-pythia8\",\n",
    "#     \"ttHToNonbb_M125_TuneCP5_13TeV-powheg-pythia8\",\n",
    "#     \"TTTo2L2Nu_TuneCP5_13TeV-powheg-pythia8\",\n",
    "#     \"TTToHadronic_TuneCP5_13TeV-powheg-pythia8\",\n",
    "#     \"TTToSemiLeptonic_TuneCP5_13TeV-powheg-pythia8\",\n",
    "    \"TTZToQQ_TuneCP5_13TeV-amcatnlo-pythia8\",\n",
    "#     \"ST_s-channel_4f_leptonDecays_TuneCP5_PSweights_13TeV-amcatnlo-pythia8\",\n",
    "#     \"ST_tW_antitop_5f_inclusiveDecays_TuneCP5_PSweights_13TeV-powheg-pythia8\",\n",
    "#     \"ST_tW_top_5f_inclusiveDecays_TuneCP5_PSweights_13TeV-powheg-pythia8\",\n",
    "#     \"ST_t-channel_top_4f_inclusiveDecays_TuneCP5_13TeV-powhegV2-madspin-pythia8\",\n",
    "#     \"THW_ctcvcp_5f_Hincl_13TeV_madgraph_pythia8\",\n",
    "#     \"TTGJets_TuneCP5_13TeV-amcatnloFXFX-madspin-pythia8\",\n",
    "    \"TTWJetsToQQ_TuneCP5_13TeV-amcatnloFXFX-madspin-pythia8\",\n",
    "#     \"WJetsToLNu_TuneCP5_13TeV-madgraphMLM-pythia8\",\n",
    "#     \"WW_TuneCP5_13TeV-pythia8\"\n",
    "]\n",
    "\n",
    "import matplotlib \n",
    "matplotlib.rc('xtick', labelsize=12) \n",
    "matplotlib.rc('ytick', labelsize=12)"
   ]
  },
  {
   "cell_type": "code",
   "execution_count": 21,
   "metadata": {},
   "outputs": [],
   "source": [
    "def merge_json_output(samples):\n",
    "    \n",
    "    merge = {}\n",
    "    for indx,s in enumerate(samples):\n",
    "        with open(s) as json_file:\n",
    "            data = json.load(json_file)\n",
    "        \n",
    "        for k1 in [k1 for k1 in data.keys() if not k1.startswith('hist2d')]:\n",
    "            if indx == 0:\n",
    "                merge[k1] = {}\n",
    "            for k2 in data[k1].keys():\n",
    "                if k2 == \"contents\" and indx != 0:\n",
    "                    merge[k1][k2] = [sum(x) for x in zip(merge[k1][k2], data[k1][k2])]\n",
    "                else:\n",
    "                    merge[k1][k2] = data[k1][k2]\n",
    "    return merge\n",
    "        "
   ]
  },
  {
   "cell_type": "code",
   "execution_count": 37,
   "metadata": {},
   "outputs": [],
   "source": [
    "mc = merge_json_output([os.path.join(mc_folder, \"out_\"+sample+\".json\") for sample in sample_list if sample.startswith(\"TT\")])\n",
    "#mc = {}\n",
    "for sample in sample_list:\n",
    "    if not sample.startswith(\"TT\"):\n",
    "        with open(os.path.join(mc_folder, \"out_\"+sample+\".json\")) as json_file:\n",
    "            mc.update(json.load(json_file))\n",
    "\n",
    "\n",
    "# output_data = [data_folder + \"out_Run2017\" + i + \"_SingleElectron.json\" for i in [\"B\", \"C\", \"D\", \"E\", \"F\"]]\n",
    "# output_data += [data_folder + \"out_Run2017\" + i + \"_SingleMuon.json\" for i in [\"B\", \"C\", \"D\", \"E\", \"F\"]]\n",
    "#output_data += [data_folder + \"out_Run2017\" + i + \"_DoubleMuon.json\" for i in [\"B\", \"C\", \"D\", \"E\", \"F\"]]\n",
    "#output_data += [data_folder + \"out_Run2017\" + i + \"_DoubleEG.json\" for i in [\"B\", \"C\", \"D\", \"E\", \"F\"]]\n",
    "#output_data += [data_folder + \"out_Run2017\" + i + \"_MuonEG.json\" for i in [\"B\", \"C\", \"D\", \"E\", \"F\"]]\n",
    "\n",
    "# data = merge_json_output(output_data)"
   ]
  },
  {
   "cell_type": "code",
   "execution_count": 33,
   "metadata": {},
   "outputs": [],
   "source": [
    "var_names = {\n",
    "#     \"nbtags\": \"DeepCSV btag multiplicity\",\n",
    "#     \"njets\" : \"jet multiplicity\",\n",
    "#     \"leading_jet_pt\" : \"leading jet pt [GeV]\",\n",
    "#     \"leading_lepton_pt\" : \"leading lepton pt [GeV]\",\n",
    "#     #\"genWeights\" : \"genWeights\",\n",
    "#     #\"nElectrons\" : \"number of electrons\",\n",
    "#     #\"nMuons\" : \"number of muons\",\n",
    "#     #\"DNN\": \"DNN (binary classifier)\",\n",
    "#     \"nleps\": \"Number of leptons\",\n",
    "#     \"nfatjets\": \"fat jet multiplicity\",\n",
    "#     \"nbbtags\": \"H->bb tag multiplicity\",\n",
    "#     \"leading_fatjet_pt\": \"leading fat jet pt [GeV]\",\n",
    "#     \"leading_fatjet_eta\": \"leading fat jet eta\",\n",
    "#     \"leading_fatjet_mass\": \"leading fat jet mass [GeV]\",\n",
    "#     \"leading_jet_eta\": \"leading jet eta\",\n",
    "#     \"leading_lepton_eta\" : \"leading lepton eta\",\n",
    "#     \"higgs_pt\": \"Higgs pt [GeV]\",\n",
    "#     \"higgs_eta\": \"Higgs eta\",\n",
    "#     \"top_pt\": \"top pt [GeV]\",\n",
    "#     \"top_eta\": \"top eta\",\n",
    "#     \"leading_bjet_pt\" : \"leading jet pt [GeV]\",\n",
    "#     \"subleading_bjet_pt\" : \"subleading bjet pt [GeV]\",\n",
    "#     \"subleading_fatjet_pt\" : \"subleading fat jet pt [GeV]\",\n",
    "#     \"subleading_fatjet_mass\" : \"subleading fat jet mass [GeV]\",\n",
    "    \"best_higgs_candidate__pt\": \"Higgs candidate pt [GeV]\",\n",
    "    \"best_higgs_candidate__msoftdrop\": \"Higgs candidate mass [GeV]\",\n",
    "    \"best_higgs_candidate__tau21\": r\"Higgs candidate $\\tau_{21}$\",\n",
    "    \"best_higgs_candidate__deepTagMD_HbbvsQCD\": \"Higgs candidate deepTagMD_HbbvsQCD\",\n",
    "    \n",
    "    \"best_W_candidate_boosted_pt\": \"boosted W candidate pt [GeV]\",\n",
    "    \"best_W_candidate_boosted_msoftdrop\": \"boosted W candidate mass [GeV]\",\n",
    "    \"best_W_candidate_boosted_tau21\": r\"boosted W candidate $\\tau_{21}$\",\n",
    "    \n",
    "#     \"best_top_candidate_boosted_pt\": \"boosted top candidate pt [GeV]\",\n",
    "#     \"best_top_candidate_boosted_msoftdrop\": \"boosted top candidate mass [GeV]\",\n",
    "#     \"best_top_candidate_boosted_tau21\": r\"boosted top candidate $\\tau_{21}$\",\n",
    "    \n",
    "    \"best_W_candidate_resolved_pt\": \"resolved W candidate pt [GeV]\",\n",
    "    \"best_W_candidate_resolved_mass\": \"resolved W candidate mass [GeV]\",\n",
    "    \n",
    "    \"leptonic_W_candidate_pt\": \"leptonic W pt [GeV]\",\n",
    "    \"leptonic_W_candidate_mass\": \"leptonic W mass [GeV]\",\n",
    "    \n",
    "#     \"deltaR_Wlep_Whad_resolved\": r\"$\\Delta R(W_{\\text{lep}}, W_{\\text{had, resolved}})$\",\n",
    "#     \"deltaR_Wlep_Whad_boosted\": r\"$\\Delta R(W_{\\text{lep}}, W_{\\text{had, boosted}})$\",\n",
    "#     \"deltaR_Wlep_H\": r\"$\\Delta R(W_{\\text{lep}}, H)$\",\n",
    "#     \"deltaR_H_Whad_boosted\": r\"$\\Delta R(W_{\\text{had, boosted}}, H)$\",\n",
    "    \n",
    "    \"deltaR_Wlep_Whad_resolved\": \"$\\Delta R(W_{lep}, W_{had, resolved})$\",\n",
    "    \"deltaR_Wlep_Whad_boosted\": \"$\\Delta R(W_{lep}, W_{had, boosted})$\",\n",
    "    \"deltaR_Wlep_H\": \"$\\Delta R(W_{lep}, H)$\",\n",
    "    \"deltaR_H_Whad_boosted\": \"$\\Delta R(W_{had, boosted}, H)$\",\n",
    "}\n",
    "\n",
    "processes = [\"ttHTobb\", \"ttHToNonbb\", \"ttlf\", \"ttcc\", \"ST_s-channel\", \"ST_tW_antitop\", \"ST_tW_top\", \"ST_t-channel\", \"ttbb\",\"ttb\", \"tt2b\"]\n",
    "#processes = [\"ttlf\"]\n",
    "\n",
    "process_names = {\n",
    "    \"ttHTobb\" : \"tt+H(bb)\",\n",
    "    \"ttHToNonbb\": \"tt+H(non-bb)\",\n",
    "    \"ttlf\" : \"tt+light\",\n",
    "    \"ttbb\" : \"tt+bb\",\n",
    "    \"tt2b\" : \"tt+2b\",\n",
    "    \"ttb\" : \"tt+b\",\n",
    "    \"ttcc\" : \"tt+cc\",\n",
    "}\n",
    "\n",
    "for p in processes:\n",
    "    if p.startswith('ST'):\n",
    "        process_names[p] = p\n",
    "\n",
    "for sample in [s for s in sample_list if not (s.startswith('tt') or s.startswith('TT') or s.startswith('ST'))]:\n",
    "    pname = sample.split('_')[0]\n",
    "    processes.append(pname)\n",
    "    process_names[pname] = pname\n",
    "\n",
    "# colors = {\n",
    "#     \"ttlf\": (251, 102, 102),\n",
    "#     \"ttcc\": (204, 2, -0),\n",
    "#     \"ttb\": (153, 51, 51),\n",
    "#     \"ttbb\": (102, 0, 0),\n",
    "#     \"tt2b\": (80, 0, 0),\n",
    "#     \"ttHTobb\": (44, 62, 167),\n",
    "#     \"ttHToNonbb\": (90, 115, 203),\n",
    "# }\n",
    "\n",
    "# for cn, c in colors.items():\n",
    "#     colors[cn] = (c[0]/255.0, c[1]/255.0, c[2]/255.0)"
   ]
  },
  {
   "cell_type": "code",
   "execution_count": 25,
   "metadata": {},
   "outputs": [],
   "source": [
    "##### order processes by number ov events\n",
    "var = \"best_higgs_candidate__msoftdrop\"\n",
    "cat = \"boosted_HandW\"\n",
    "processes_ordered = [\"ttHTobb\", \"ttHToNonbb\"]\n",
    "integral = []\n",
    "for p in processes:\n",
    "    if p.startswith('ttH'):\n",
    "        continue\n",
    "    if not (p.startswith('tt') or p.startswith('TT') or p.startswith('ST')):\n",
    "        name = process_names[p] #'unsplit'\n",
    "    else:\n",
    "        name = p\n",
    "    counts = mc[\"hist_\" + name + \"_\" + cat + \"_\" + var][\"contents\"]\n",
    "    integral.append( sum(counts) )\n",
    "\n",
    "for i in np.argsort(integral):\n",
    "    processes_ordered.append(processes[i+2])\n",
    "\n",
    "processes = processes_ordered\n",
    "\n",
    "colmap = iter(plt.cm.terrain(np.linspace(0,1,len(var_names)+5)))\n",
    "\n",
    "colors = {}\n",
    "for p in processes:\n",
    "    colors[p] = next(colmap)"
   ]
  },
  {
   "cell_type": "code",
   "execution_count": 26,
   "metadata": {},
   "outputs": [],
   "source": [
    "def plot_mc(var, data, name, bottom, process):\n",
    "    \n",
    "    bins = data[var][\"edges\"][:-1]\n",
    "    counts = data[var][\"contents\"]\n",
    "    yerr = data[var][\"contents_w2\"]\n",
    "        \n",
    "    integral = sum(counts)\n",
    "    width = bins[1] - bins[0]\n",
    "    \n",
    "    hist = plt.bar(bins, counts, width=width, bottom=bottom, align=\"edge\", label=name + \" ({0})\".format(round(integral, 1)), color=colors[process], edgecolor=colors[process], zorder = 1000)\n",
    "    #hist = plt.bar(bins, counts, yerr=yerr, width=width, align=\"center\", label=dataset + \" ({0})\".format(round(integral, 2)))\n",
    "    \n",
    "    if process == \"ttHTobb\" and (\"DNN\" in var):\n",
    "        bins = data[var][\"edges\"][1:]\n",
    "        hist = plt.step(bins, [c*50 for c in counts], label=\"tt+H(bb) x 50\", color=colors[process], where=\"pre\", zorder=1001)\n",
    "        \n",
    "    return plt.bar, counts, data[var][\"edges\"]"
   ]
  },
  {
   "cell_type": "code",
   "execution_count": 27,
   "metadata": {},
   "outputs": [],
   "source": [
    "def plot_data(var, data):\n",
    "    \n",
    "    bins = data[var][\"edges\"][:-1]\n",
    "    counts = data[var][\"contents\"]\n",
    "    yerr = data[var][\"contents_w2\"]\n",
    "        \n",
    "    integral = sum(counts)\n",
    "    width = bins[1] - bins[0]\n",
    "    \n",
    "    bin_centers = [i+width/2. for i in data[var][\"edges\"][:]]    \n",
    "\n",
    "    #hist = plt.step(bins, counts, where=\"post\", label=\"data ({0})\".format(round(integral, 1)), color=\"k\", zorder = 1001, markeredgecolor=None)\n",
    "    hist = plt.plot(bin_centers, counts+[0.], \"-o\", drawstyle=\"steps-mid\", label=\"data ({0})\".format(round(integral, 1)), color=\"k\", zorder = 1001)\n",
    "    plt.xlim([data[var][\"edges\"][0], data[var][\"edges\"][-1]])\n",
    "    #hist = plt.bar(bins, counts, yerr=yerr, width=width, align=\"center\", label=dataset + \" ({0})\".format(round(integral, 2)))\n",
    "        \n",
    "    return plt.plot, counts"
   ]
  },
  {
   "cell_type": "code",
   "execution_count": 28,
   "metadata": {},
   "outputs": [],
   "source": [
    "def plot_histogram(var, processes, mc, data, cat):\n",
    "    #matplotlib.rc('font',**{'family':'sans-serif','sans-serif':['Helvetica']})\n",
    "    matplotlib.rc('text', usetex=False)\n",
    "    \n",
    "    fig = plt.figure(figsize=(6,6))\n",
    "    \n",
    "    # main plot\n",
    "    bottom = None\n",
    "    \n",
    "    a1 = plt.axes([0.0,0.22,1.0,0.8])\n",
    "    #a1.get_xaxis().set_visible(False)\n",
    "\n",
    "    plt.grid(True, axis='y', zorder=0)\n",
    "    for p in processes:\n",
    "        if not (p.startswith('tt') or p.startswith('TT') or p.startswith('ST')):\n",
    "            name = process_names[p] #'unsplit'\n",
    "        else:\n",
    "            name = p\n",
    "        _, counts, bins = plot_mc(\"hist_\" + name + \"_\" + cat + \"_\" + var, mc, process_names[p], bottom, p)\n",
    "        if processes.index(p) == 0:\n",
    "            bottom = [0.0 for c in counts]\n",
    "        bottom = [sum(x) for x in zip(bottom, counts)]   \n",
    "    \n",
    "    if not data == None:\n",
    "        _, counts_data = plot_data(\"hist_data_\" + cat + \"_\" + var, data)\n",
    "        \n",
    "    plt.legend(loc=\"center left\", bbox_to_anchor=(1, 0.5), fontsize=14)\n",
    "    if var == \"njets\":\n",
    "        plt.xlim([0,14])\n",
    "        plt.yscale('log')\n",
    "        plt.ylim([1,10**8])\n",
    "        \n",
    "    if var == \"nbtags\":\n",
    "        plt.xlim([0,6])\n",
    "        plt.yscale('log')\n",
    "        plt.ylim([1,10**8])\n",
    "\n",
    "    binsize = np.diff( bins )[0]\n",
    "    plt.ylabel(\"events / {:.1f}\".format(binsize), fontsize=18)\n",
    "    plt.title(\n",
    "        r\"$\\mathbf{CMS}$ simulation preliminary\",\n",
    "        fontsize=16, x=0.0, ha=\"left\", y=1.03, va=\"top\")\n",
    "    ax = plt.gca()\n",
    "    plt.text(0.99, 0.99,\n",
    "        \"2017 pp $41.5\\ \\mathrm{fb}^{-1}\\ \\mathrm{(13\\ TeV)}$\",\n",
    "              fontsize=12, ha=\"right\", va=\"bottom\", transform=ax.transAxes)\n",
    "    if data == None:\n",
    "        plt.xlabel(var_names[var], fontsize=18)\n",
    "    \n",
    "    if not data == None:\n",
    "        # ratio plot\n",
    "        a2 = plt.axes([0.0,0.0, 1.0, 0.18], sharex=a1)\n",
    "        plt.xlabel(var_names[var], fontsize=18)\n",
    "        plt.grid(True, axis='x', zorder=0)\n",
    "        plt.ylabel(r\"$\\frac{\\mathrm{data}}{\\mathrm{pred.}}$\", fontsize=16)\n",
    "        plt.axhline(1.0, color=\"gray\")\n",
    "    \n",
    "    \n",
    "        ratio = [x/y if y > 0 else 1. for x, y in zip(counts_data, bottom)] + [1.0]\n",
    "        width = bins[1] - bins[0]\n",
    "        plt.plot(bins, ratio, \"k-\", drawstyle=\"steps-post\", zorder = 1001)\n",
    "    \n",
    "        a2.set_ylim(0.75, 1.25)\n",
    "        ticks = a1.get_xticks()\n",
    "        a2.set_xticks(ticks)\n",
    "    outdir = os.path.join('plots','1112',cat)\n",
    "    if not os.path.exists(outdir):\n",
    "        os.makedirs(outdir)\n",
    "    for ext in ['.png','.pdf']:\n",
    "        plt.savefig(os.path.join(outdir,var+ext), bbox_inches='tight')\n",
    "        plt.yscale('log')\n",
    "        plt.savefig(os.path.join(outdir,var+'_semilogy'+ext), bbox_inches='tight')\n",
    "    plt.show()"
   ]
  },
  {
   "cell_type": "code",
   "execution_count": null,
   "metadata": {},
   "outputs": [],
   "source": [
    "cats = ['boosted_HandW']\n",
    "for objlist in [['Wlep','H','Whad_resolved'], ['Wlep','H','Whad_boosted']]:\n",
    "    for obj in combinations(objlist,2):\n",
    "        cats.append('boosted_HandW_deltaRcut_{}_{}'.format(obj[0],obj[1]))\n",
    "for cat in cats:\n",
    "    for var in var_names.keys():\n",
    "        plot_histogram(var, processes, mc, None, cat)"
   ]
  },
  {
   "cell_type": "code",
   "execution_count": 16,
   "metadata": {},
   "outputs": [],
   "source": [
    "def plot_2d(data):#        var, data, name, bottom, process):\n",
    "    \n",
    "    extent = data[\"edges\"]\n",
    "    counts = np.rot90(data[\"contents\"])\n",
    "        \n",
    "    integral = sum(counts)\n",
    "    \n",
    "    plt.imshow(counts, extent=extent, vmin=0)\n",
    "        \n",
    "#     return plt.bar, counts, data[var][\"edges\"]"
   ]
  },
  {
   "cell_type": "code",
   "execution_count": 38,
   "metadata": {},
   "outputs": [
    {
     "data": {
      "image/png": "[encoded data removed]",
      "text/plain": [
       "<Figure size 432x288 with 2 Axes>"
      ]
     },
     "metadata": {
      "needs_background": "light"
     },
     "output_type": "display_data"
    },
    {
     "data": {
      "image/png": "[encoded data removed]",
      "text/plain": [
       "<Figure size 432x288 with 2 Axes>"
      ]
     },
     "metadata": {
      "needs_background": "light"
     },
     "output_type": "display_data"
    },
    {
     "data": {
      "image/png": "[encoded data removed]",
      "text/plain": [
       "<Figure size 432x288 with 2 Axes>"
      ]
     },
     "metadata": {
      "needs_background": "light"
     },
     "output_type": "display_data"
    },
    {
     "data": {
      "image/png": "[encoded data removed]",
      "text/plain": [
       "<Figure size 432x288 with 2 Axes>"
      ]
     },
     "metadata": {
      "needs_background": "light"
     },
     "output_type": "display_data"
    },
    {
     "data": {
      "image/png": "[encoded data removed]",
      "text/plain": [
       "<Figure size 432x288 with 2 Axes>"
      ]
     },
     "metadata": {
      "needs_background": "light"
     },
     "output_type": "display_data"
    },
    {
     "data": {
      "image/png": "[encoded data removed]",
      "text/plain": [
       "<Figure size 432x288 with 2 Axes>"
      ]
     },
     "metadata": {
      "needs_background": "light"
     },
     "output_type": "display_data"
    }
   ],
   "source": [
    "for sample in sample_list:\n",
    "    with open(os.path.join(mc_folder, \"out_\"+sample+\".json\")) as jsonfile:\n",
    "        data = json.load(jsonfile)\n",
    "    for hist2d in [hist for hist in data.keys() if hist.startswith('hist2d')]:\n",
    "        plot_2d(data[hist2d])\n",
    "        labels = hist2d.split('_')\n",
    "        plt.xlabel(r'$\\Delta R$({})'.format(labels[2]))\n",
    "        plt.ylabel(r'$\\Delta R$({})'.format(labels[3]))\n",
    "        plt.colorbar()\n",
    "        plt.show()"
   ]
  },
  {
   "cell_type": "markdown",
   "metadata": {},
   "source": [
    "# Calculation of stat. only result"
   ]
  },
  {
   "cell_type": "code",
   "execution_count": null,
   "metadata": {},
   "outputs": [],
   "source": [
    "def likelihood(mu, data_i, s_i, b_i):\n",
    "    b_i[b_i < 0] = 0.0\n",
    "    s_i[s_i < 0] = 0.0\n",
    "\n",
    "    sel = ((s_i>0) & (b_i>0))\n",
    "    \n",
    "    ret = data_i[sel] * np.log(np.full(data_i[sel].shape[0], mu)*s_i[sel] + b_i[sel]) - (mu*s_i[sel] + b_i[sel])\n",
    "    #ret = data_i * np.log(np.full(data_i.shape[0], mu)*s_i + b_i) - (mu*s_i + b_i)\n",
    "    return -np.sum(ret)"
   ]
  },
  {
   "cell_type": "code",
   "execution_count": null,
   "metadata": {},
   "outputs": [],
   "source": [
    "def make_fake_data(data, var, processes, cat):\n",
    "    \n",
    "    # calculate total MC prediction\n",
    "    for p in processes:\n",
    "        if processes.index(p) == 0:\n",
    "            counts = data[\"hist_\" + p + \"_\" + cat + \"_\" + var][\"contents\"]\n",
    "        else:\n",
    "            counts = [x + y for x, y in zip(counts, data[\"hist_\" + p + \"_\" + cat + \"_\" + var][\"contents\"])]\n",
    "    \n",
    "    return counts"
   ]
  },
  {
   "cell_type": "code",
   "execution_count": null,
   "metadata": {},
   "outputs": [],
   "source": [
    "def stat_fit(data, var, processes, cat):\n",
    "    \n",
    "    fake_data = np.asarray(make_fake_data(data, var, processes, cat))\n",
    "    sigs = [\"ttHTobb\", \"ttHToNonbb\"]\n",
    "    for p in sigs:\n",
    "        if sigs.index(p) == 0:\n",
    "            sig_tot = data[\"hist_\" + p + \"_\" + cat + \"_\" + var][\"contents\"]\n",
    "        else:\n",
    "            sig_tot = [x + y for x, y in zip(sig_tot, data[\"hist_\" + p + \"_\" + cat + \"_\" + var][\"contents\"])]\n",
    "    sig = np.asarray(sig_tot)\n",
    "    print(sig.shape)\n",
    "    \n",
    "    bkgs = [\"ttlf\", \"ttcc\", \"ttb\", \"tt2b\", \"ttbb\"]\n",
    "    for p in bkgs:\n",
    "        if bkgs.index(p) == 0:\n",
    "            bkg_tot = data[\"hist_\" + p + \"_\" + cat + \"_\" + var][\"contents\"]\n",
    "        else:\n",
    "            bkg_tot = [x + y for x, y in zip(bkg_tot, data[\"hist_\" + p + \"_\" + cat + \"_\" + var][\"contents\"])]\n",
    "    bkg_tot = np.asarray(bkg_tot)\n",
    "    print(bkg_tot.shape)\n",
    "    print(fake_data.shape)\n",
    "    \n",
    "    import scipy.optimize as optimize\n",
    "    mu0 = 0.0\n",
    "    res = optimize.minimize(likelihood, mu0, (fake_data, sig, bkg_tot), bounds = [(None,None)])\n",
    "\n",
    "    # Error of estimator\n",
    "    err = lambda mu: likelihood(mu, fake_data, sig, bkg_tot)-(likelihood(res.x, fake_data, sig, bkg_tot)+0.5)\n",
    "\n",
    "    down = res.x - optimize.fsolve(err,(res.x - 3.0))[0]\n",
    "    up = optimize.fsolve(err,(res.x + 0.01))[0] - res.x\n",
    "\n",
    "    print(\"Best fit:\", res.x[0], \"-\", down[0], \"+\", up[0])\n",
    "    "
   ]
  },
  {
   "cell_type": "code",
   "execution_count": null,
   "metadata": {},
   "outputs": [],
   "source": [
    "cat = \"sl_jge4_tge2\"\n",
    "stat_fit(mc, \"DNN_ROC\", processes, cat)"
   ]
  },
  {
   "cell_type": "markdown",
   "metadata": {},
   "source": [
    "# ROC curve"
   ]
  },
  {
   "cell_type": "code",
   "execution_count": null,
   "metadata": {},
   "outputs": [],
   "source": [
    "def ROC(data, processes, cat, var):\n",
    "    \n",
    "    sigs = [\"ttHTobb\", \"ttHToNonbb\"]\n",
    "    for p in sigs:\n",
    "        if sigs.index(p) == 0:\n",
    "            sig_tot = data[\"hist_\" + p + \"_\" + cat + \"_\" + var][\"contents\"]\n",
    "        else:\n",
    "            sig_tot = [x + y for x, y in zip(sig_tot, data[\"hist_\" + p + \"_\" + cat + \"_\" + var][\"contents\"])]\n",
    "    sig = np.asarray(sig_tot)\n",
    "    \n",
    "    bkgs = [\"ttlf\", \"ttcc\", \"ttb\", \"tt2b\", \"ttbb\"]\n",
    "    for p in bkgs:\n",
    "        if bkgs.index(p) == 0:\n",
    "            bkg_tot = data[\"hist_\" + p + \"_\" + cat + \"_\" + var][\"contents\"]\n",
    "        else:\n",
    "            bkg_tot = [x + y for x, y in zip(bkg_tot, data[\"hist_\" + p + \"_\" + cat + \"_\" + var][\"contents\"])]\n",
    "    bkg_tot = np.asarray(bkg_tot)\n",
    "    \n",
    "    nsig = sum(sig_tot)\n",
    "    nbkg = sum(bkg_tot)\n",
    "    bkg_tot = [x/nbkg for x in bkg_tot]\n",
    "    sig_tot = [x/nsig for x in sig_tot]\n",
    "\n",
    "    fpr = np.cumsum(bkg_tot)\n",
    "    tpr = np.cumsum(sig_tot)\n",
    "    \n",
    "    from sklearn.metrics import auc\n",
    "    roc_auc = auc(fpr, tpr, reorder=True)\n",
    "    if roc_auc < 0.5:\n",
    "        roc_auc = 1 - roc_auc\n",
    "    \n",
    "    fig = plt.figure(figsize=(6,6))\n",
    "    plt.plot([0, 1], [0, 1], color='k', linestyle='--')\n",
    "    plt.plot(tpr, fpr, label='ROC curve (area = %0.2f)' % roc_auc)\n",
    "    plt.xlim([0.0, 1.0])\n",
    "    plt.ylim([0.0, 1.0])\n",
    "    plt.xlabel('False Positive Rate', fontsize=16)\n",
    "    plt.ylabel('True Positive Rate', fontsize=16)\n",
    "    plt.legend(loc=\"lower right\", fontsize=16)\n",
    "    \n",
    "    return roc_auc\n",
    "    "
   ]
  },
  {
   "cell_type": "code",
   "execution_count": null,
   "metadata": {},
   "outputs": [],
   "source": [
    "cat = \"sl_jge6_tge3\"\n",
    "ROC(mc, processes, cat, \"DNN_ROC\")"
   ]
  },
  {
   "cell_type": "code",
   "execution_count": null,
   "metadata": {},
   "outputs": [],
   "source": [
    "roc = 0\n",
    "for p in [\"ttH\", \"ttbb\", \"tt2b\", \"ttb\", \"ttcc\", \"ttlf\"]:\n",
    "    roc += ROC(mc, processes, cat, \"DNN_ROC_\" + p)\n",
    "print(roc/6.)"
   ]
  },
  {
   "cell_type": "markdown",
   "metadata": {},
   "source": [
    "# Plot confusion matrix"
   ]
  },
  {
   "cell_type": "code",
   "execution_count": null,
   "metadata": {},
   "outputs": [],
   "source": [
    "def calculate_confusion_matrix(data, process):\n",
    "    pred = []\n",
    "    for true_p in [\"ttHTobb\", \"ttbb\", \"tt2b\",\"ttb\", \"ttcc\", \"ttlf\"]:\n",
    "        ntot = sum(data[\"hist_\" + true_p + \"_\" + cat + \"_nleps\"][\"contents\"])\n",
    "        for pred_p in [\"ttH\", \"ttbb\", \"tt2b\", \"ttb\", \"ttcc\", \"ttlf\"]:\n",
    "            n_pred = sum(data[\"hist_\" + true_p + \"_\" + cat + \"_DNN_ROC_\" + pred_p][\"contents\"])/ntot\n",
    "            pred.append(n_pred)\n",
    "                   \n",
    "    confusion_matrix = np.asarray(pred)\n",
    "    cm = confusion_matrix.reshape((6,6))   \n",
    "    \n",
    "    fig, ax = plt.subplots()\n",
    "    im = ax.imshow(cm, interpolation='nearest', cmap = plt.cm.Blues)\n",
    "    ax.figure.colorbar(im, ax=ax)\n",
    "    # We want to show all ticks...\n",
    "    ax.set(xticks=np.arange(cm.shape[1]),\n",
    "           yticks=np.arange(cm.shape[0]),\n",
    "           # ... and label them with the respective list entries\n",
    "           xticklabels=[\"ttHbb\", \"ttbb\", \"tt2b\", \"ttb\", \"ttcc\", \"ttlf\"], yticklabels=[\"ttHbb\", \"ttbb\", \"tt2b\", \"ttb\", \"ttcc\", \"ttlf\"],\n",
    "           ylabel='True label',\n",
    "           xlabel='Predicted label')\n",
    "\n",
    "    # Rotate the tick labels and set their alignment.\n",
    "    plt.setp(ax.get_xticklabels(), rotation=45, ha=\"right\",\n",
    "             rotation_mode=\"anchor\")\n",
    "\n",
    "    # Loop over data dimensions and create text annotations.\n",
    "    fmt = '.2f'\n",
    "    thresh = cm.max() / 2.\n",
    "    for i in range(cm.shape[0]):\n",
    "        for j in range(cm.shape[1]):\n",
    "            ax.text(j, i, format(cm[i, j], fmt),\n",
    "                    ha=\"center\", va=\"center\",\n",
    "                    color=\"white\" if cm[i, j] > thresh else \"black\")\n",
    "    fig.tight_layout()\n",
    "    return ax"
   ]
  },
  {
   "cell_type": "code",
   "execution_count": null,
   "metadata": {},
   "outputs": [],
   "source": [
    "cat = \"sl_j4_tge3\"\n",
    "calculate_confusion_matrix(mc, processes)"
   ]
  },
  {
   "cell_type": "code",
   "execution_count": null,
   "metadata": {},
   "outputs": [],
   "source": []
  },
  {
   "cell_type": "code",
   "execution_count": null,
   "metadata": {},
   "outputs": [],
   "source": []
  }
 ],
 "metadata": {
  "kernelspec": {
   "display_name": "Python 3",
   "language": "python",
   "name": "python3"
  },
  "language_info": {
   "codemirror_mode": {
    "name": "ipython",
    "version": 3
   },
   "file_extension": ".py",
   "mimetype": "text/x-python",
   "name": "python",
   "nbconvert_exporter": "python",
   "pygments_lexer": "ipython3",
   "version": "3.7.3"
  }
 },
 "nbformat": 4,
 "nbformat_minor": 4
}
