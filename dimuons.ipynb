{
 "cells": [
  {
   "cell_type": "code",
   "execution_count": 1,
   "metadata": {},
   "outputs": [],
   "source": [
    "%matplotlib inline"
   ]
  },
  {
   "cell_type": "markdown",
   "metadata": {},
   "source": [
    "https://indico.cern.ch/event/628669/contributions/2600995/attachments/1463252/2266733/2017_05_26_Hmm_preApproval.pdf"
   ]
  },
  {
   "cell_type": "code",
   "execution_count": 2,
   "metadata": {},
   "outputs": [
    {
     "name": "stderr",
     "output_type": "stream",
     "text": [
      "/usr/local/lib/python3.5/dist-packages/dask/config.py:168: YAMLLoadWarning: calling yaml.load() without Loader=... is deprecated, as the default Loader is unsafe. Please read https://msg.pyyaml.org/load for full details.\n",
      "  data = yaml.load(f.read()) or {}\n"
     ]
    }
   ],
   "source": [
    "import uproot, cupy, awkward\n",
    "from awkward.util import numpy as anp\n",
    "import numpy as np\n",
    "import dask\n",
    "import glob\n",
    "import psutil, os\n",
    "from collections import OrderedDict\n",
    "from typing import List, Dict\n",
    "import math\n",
    "import numba\n",
    "import time\n",
    "from concurrent.futures import ThreadPoolExecutor\n",
    "\n",
    "#need to set these explicitly\n",
    "os.environ[\"NUMBAPRO_NVVM\"] = \"/usr/local/cuda-9.2/nvvm/lib64/libnvvm.so\"\n",
    "os.environ[\"NUMBAPRO_LIBDEVICE\"] = \"/usr/local/cuda-9.2/nvvm/libdevice/\"\n",
    "from numba import cuda\n"
   ]
  },
  {
   "cell_type": "code",
   "execution_count": 3,
   "metadata": {},
   "outputs": [
    {
     "name": "stdout",
     "output_type": "stream",
     "text": [
      "Mon Mar 25 17:27:26 2019       \r\n",
      "+-----------------------------------------------------------------------------+\r\n",
      "| NVIDIA-SMI 396.26                 Driver Version: 396.26                    |\r\n",
      "|-------------------------------+----------------------+----------------------+\r\n",
      "| GPU  Name        Persistence-M| Bus-Id        Disp.A | Volatile Uncorr. ECC |\r\n",
      "| Fan  Temp  Perf  Pwr:Usage/Cap|         Memory-Usage | GPU-Util  Compute M. |\r\n",
      "|===============================+======================+======================|\r\n",
      "|   0  GeForce GTX TIT...  Off  | 00000000:07:00.0 Off |                  N/A |\r\n",
      "| 22%   51C    P2    74W / 250W |    243MiB / 12210MiB |      0%      Default |\r\n",
      "+-------------------------------+----------------------+----------------------+\r\n",
      "                                                                               \r\n",
      "+-----------------------------------------------------------------------------+\r\n",
      "| Processes:                                                       GPU Memory |\r\n",
      "|  GPU       PID   Type   Process name                             Usage      |\r\n",
      "|=============================================================================|\r\n",
      "|    0      7415      C   /usr/bin/python3                             232MiB |\r\n",
      "+-----------------------------------------------------------------------------+\r\n"
     ]
    }
   ],
   "source": [
    "!nvidia-smi"
   ]
  },
  {
   "cell_type": "code",
   "execution_count": 4,
   "metadata": {},
   "outputs": [
    {
     "data": {
      "text/plain": [
       "('0.8.11', '6.0.0a1')"
      ]
     },
     "execution_count": 4,
     "metadata": {},
     "output_type": "execute_result"
    }
   ],
   "source": [
    "awkward.__version__, cupy.__version__"
   ]
  },
  {
   "cell_type": "code",
   "execution_count": 5,
   "metadata": {},
   "outputs": [],
   "source": [
    "import matplotlib.pyplot as plt"
   ]
  },
  {
   "cell_type": "code",
   "execution_count": 6,
   "metadata": {},
   "outputs": [],
   "source": [
    "#[jpata@login-1 ~]$ rsync -r -R --progress /mnt/hadoop/store/./data/Run2017*/SingleMuon/NANOAOD/Nano14Dec2018-v1 titans.hep.caltech.edu:/nvmedata/store/\n",
    "files = OrderedDict()\n",
    "files[\"dy\"] = glob.glob(\"/nvmedata/store/mc/RunIIFall17NanoAOD/DYJetsToLL_M-50_TuneCP5_13TeV-amcatnloFXFX-pythia8/NANOAODSIM/**/*.root\", recursive=True)\n",
    "files[\"ggh\"] = glob.glob(\"/nvmedata/store/mc/RunIIFall17NanoAOD/GluGluHToMuMu_M125_13TeV_amcatnloFXFX_pythia8/NANOAODSIM/**/*.root\", recursive=True)\n",
    "\n",
    "files[\"data_2017\"] = glob.glob(\"/nvmedata/store/data/Run2017*/SingleMuon/NANOAOD/Nano14Dec2018-v1/**/*.root\")"
   ]
  },
  {
   "cell_type": "code",
   "execution_count": 7,
   "metadata": {},
   "outputs": [],
   "source": [
    "#remove the friend trees\n",
    "files[\"ggh\"] = [x for x in files[\"ggh\"] if \"Friend\" not in x]"
   ]
  },
  {
   "cell_type": "code",
   "execution_count": 8,
   "metadata": {},
   "outputs": [
    {
     "data": {
      "text/plain": [
       "['/nvmedata/store/mc/RunIIFall17NanoAOD/GluGluHToMuMu_M125_13TeV_amcatnloFXFX_pythia8/NANOAODSIM/PU2017_12Apr2018_94X_mc2017_realistic_v14-v1/20000/76434428-F342-E811-8E45-B499BAAC3786.root',\n",
       " '/nvmedata/store/mc/RunIIFall17NanoAOD/GluGluHToMuMu_M125_13TeV_amcatnloFXFX_pythia8/NANOAODSIM/PU2017_12Apr2018_94X_mc2017_realistic_v14-v1/20000/0C2B3A66-B042-E811-8C6D-44A8423DE2C0.root',\n",
       " '/nvmedata/store/mc/RunIIFall17NanoAOD/GluGluHToMuMu_M125_13TeV_amcatnloFXFX_pythia8/NANOAODSIM/PU2017_12Apr2018_94X_mc2017_realistic_v14-v1/20000/E07AC933-F342-E811-A68D-3417EBE5354A.root']"
      ]
     },
     "execution_count": 8,
     "metadata": {},
     "output_type": "execute_result"
    }
   ],
   "source": [
    "files[\"ggh\"]"
   ]
  },
  {
   "cell_type": "code",
   "execution_count": 9,
   "metadata": {},
   "outputs": [
    {
     "name": "stdout",
     "output_type": "stream",
     "text": [
      "dy 154\n",
      "ggh 3\n",
      "data_2017 240\n"
     ]
    }
   ],
   "source": [
    "for k, v in files.items():\n",
    "    print(k, len(v))"
   ]
  },
  {
   "cell_type": "code",
   "execution_count": 72,
   "metadata": {},
   "outputs": [],
   "source": [
    "arrays_ev = [\n",
    "    \"PV_npvsGood\", \"Flag_METFilters\", \"Flag_goodVertices\", \"Generator_weight\", \"genWeight\", \"HLT_IsoMu24\"\n",
    "]\n",
    "arrays_jet = [\n",
    "    \"Jet_pt\", \"Jet_eta\", \"Jet_phi\", \"Jet_btagDeepB\", \"Jet_jetId\"\n",
    "]\n",
    "\n",
    "arrays_muon = [\n",
    "    \"nMuon\", \"Muon_pt\", \"Muon_eta\", \"Muon_phi\", \"Muon_mass\", \"Muon_pfRelIso03_all\", \"Muon_mediumId\", \"Muon_charge\"\n",
    "]\n",
    "\n",
    "arrays_to_load = arrays_jet + arrays_muon"
   ]
  },
  {
   "cell_type": "code",
   "execution_count": 11,
   "metadata": {},
   "outputs": [],
   "source": [
    "arrays_gen = [\n",
    "    \"GenPart_pt\", \"GenPart_eta\", \"GenPart_phi\", \"GenPart_mass\", \"GenPart_pdgId\", \"GenPart_status\"\n",
    "]"
   ]
  },
  {
   "cell_type": "code",
   "execution_count": 12,
   "metadata": {},
   "outputs": [],
   "source": [
    "fn = files[\"dy\"][0]\n",
    "fi = uproot.open(fn)\n",
    "tt = fi.get(\"Events\")"
   ]
  },
  {
   "cell_type": "code",
   "execution_count": 44,
   "metadata": {},
   "outputs": [],
   "source": [
    "\"\"\"\n",
    "Preloads all data into memory.\n",
    "\n",
    "Args:\n",
    "    dataset_files (Dict[str, List[str]]): a dictionary of dataset name to the list of filenames for each dataset\n",
    "\n",
    "returns:\n",
    "    Dict[str, List[Dict[str, JaggedArray]]]\n",
    "    \n",
    "    For each dataset, a list of awkward-array JaggedArray dictionaries \n",
    "\"\"\"\n",
    "def preload_data(dataset_files, arrays_to_load):\n",
    "    ret = {}\n",
    "    for dsname, dsfiles in dataset_files.items():\n",
    "        ret[dsname] = [load_arrays(fn, arrays_to_load) for fn in dsfiles]\n",
    "    return ret\n",
    "\n",
    "def load_arrays(fn, arrays_to_load):\n",
    "    #print(\"opening file {0}\".format(fn))\n",
    "    fi = uproot.open(fn)\n",
    "    tt = fi.get(\"Events\")\n",
    "    with ThreadPoolExecutor(max_workers=16) as executor:\n",
    "        arrs = tt.arrays(arrays_to_load, executor=executor)\n",
    "    #print(\"loaded {0} arrays, shape=({1},)\".format(len(arrs), tt.numentries))\n",
    "    return arrs"
   ]
  },
  {
   "cell_type": "code",
   "execution_count": 45,
   "metadata": {},
   "outputs": [],
   "source": [
    "def get_mem():\n",
    "    process = psutil.Process(os.getpid())\n",
    "    return process.memory_info().rss/1024.0/1024.0/1024.0"
   ]
  },
  {
   "cell_type": "code",
   "execution_count": 46,
   "metadata": {},
   "outputs": [],
   "source": [
    "def print_mem():\n",
    "    print(\"Using {0:.2f} GB of RSS\".format(get_mem()))"
   ]
  },
  {
   "cell_type": "code",
   "execution_count": 47,
   "metadata": {},
   "outputs": [
    {
     "name": "stdout",
     "output_type": "stream",
     "text": [
      "Using 14.16 GB of RSS\n",
      "Using 18.49 GB of RSS\n",
      "Loaded 4.12E+07 events in 70 seconds, speed 5.86E+05 Hz\n"
     ]
    }
   ],
   "source": [
    "print_mem()\n",
    "t0 = time.time()\n",
    "preloaded_data = preload_data({\n",
    "    \"dy\": files[\"dy\"][:10],\n",
    "     \"ggh\": files[\"ggh\"][:10],\n",
    "    \"data_2017\": files[\"data_2017\"][:10]\n",
    "    }, arrays_to_load)\n",
    "print_mem()\n",
    "t1 = time.time()\n",
    "dt = t1 - t0\n",
    "\n",
    "sum_ev = 0\n",
    "for k in preloaded_data.keys():\n",
    "    for arrs in preloaded_data[k]:\n",
    "        sum_ev += len(arrs[b\"Jet_pt\"])\n",
    "print(\"Loaded {0:.2E} events in {1:.0f} seconds, speed {2:.2E} Hz\".format(sum_ev, dt, sum_ev/dt))"
   ]
  },
  {
   "cell_type": "code",
   "execution_count": 17,
   "metadata": {},
   "outputs": [],
   "source": [
    "def midpoints(arr):\n",
    "    return arr[:-1]# - np.diff(arr)"
   ]
  },
  {
   "cell_type": "code",
   "execution_count": 18,
   "metadata": {},
   "outputs": [],
   "source": [
    "def compute_inv_mass(pt, eta, phi, mass):\n",
    "    px = pt * np.cos(phi)\n",
    "    py = pt * np.sin(phi)\n",
    "    pz = pt * np.sinh(eta)\n",
    "    \n",
    "    px_total = px.sum()\n",
    "    py_total = py.sum()\n",
    "    pz_total = pz.sum()\n",
    "    mass_total = mass.sum()\n",
    "    \n",
    "    inv_mass = np.sqrt(px_total**2 + py_total**2 + pz_total**2 - mass_total**2)\n",
    "    return inv_mass"
   ]
  },
  {
   "cell_type": "code",
   "execution_count": 19,
   "metadata": {},
   "outputs": [],
   "source": [
    "def compute_inv_mass_gen(arrs):\n",
    "    genmu = ((anp.abs(arrs[b\"GenPart_pdgId\"])) == 13) & (arrs[b\"GenPart_status\"]==1)\n",
    "    inv_mass_gen = compute_inv_mass(\n",
    "        arrs[b\"GenPart_pt\"][genmu][:, 0:2],\n",
    "        arrs[b\"GenPart_eta\"][genmu][:, 0:2],\n",
    "        arrs[b\"GenPart_phi\"][genmu][:, 0:2],\n",
    "        arrs[b\"GenPart_mass\"][genmu][:, 0:2]\n",
    "    )\n",
    "    return inv_mass_gen"
   ]
  },
  {
   "cell_type": "code",
   "execution_count": 20,
   "metadata": {},
   "outputs": [],
   "source": [
    "@cuda.jit(device=True)\n",
    "def searchsorted(arr, val):\n",
    "    ret = -1\n",
    "    for i in range(len(arr)):\n",
    "        if val <= arr[i]:\n",
    "            ret = i\n",
    "            break\n",
    "    return ret"
   ]
  },
  {
   "cell_type": "code",
   "execution_count": 21,
   "metadata": {},
   "outputs": [],
   "source": [
    "@cuda.jit\n",
    "def fill_histogram(data, weights, bins, out_w, out_w2):\n",
    "    xi = cuda.grid(1)\n",
    "    xstride = cuda.gridsize(1)\n",
    "    \n",
    "    for i in range(xi, len(data), xstride):\n",
    "        bin_idx = searchsorted(bins, data[i])\n",
    "        if bin_idx >=0 and bin_idx < len(out_w):\n",
    "            cuda.atomic.add(out_w, bin_idx, weights[i])\n",
    "            cuda.atomic.add(out_w2, bin_idx, weights[i]**2)"
   ]
  },
  {
   "cell_type": "code",
   "execution_count": 22,
   "metadata": {
    "scrolled": false
   },
   "outputs": [],
   "source": [
    "bins = cupy.linspace(-3,3,100)\n",
    "N = 100000\n",
    "\n",
    "weights = cupy.ones(N)\n",
    "data = cupy.random.randn(N)\n",
    "out_w = cupy.zeros(len(bins), dtype=np.float32)\n",
    "out_w2 = cupy.zeros(len(bins), dtype=np.float32)\n",
    "\n",
    "fill_histogram[32, 1024](data, weights, bins, out_w, out_w2)"
   ]
  },
  {
   "cell_type": "code",
   "execution_count": 23,
   "metadata": {},
   "outputs": [],
   "source": [
    "class Histogram:\n",
    "    def __init__(self, contents, contents_w2, edges):\n",
    "        self.contents = cupy.asnumpy(contents)\n",
    "        self.contents_w2 = cupy.asnumpy(contents_w2)\n",
    "        self.edges = cupy.asnumpy(edges)\n",
    "        \n",
    "    @staticmethod\n",
    "    def from_vector(data, weights, bins):        \n",
    "        out_w = cupy.zeros(len(bins) - 1, dtype=np.float32)\n",
    "        out_w2 = cupy.zeros(len(bins) - 1, dtype=np.float32)\n",
    "        fill_histogram[32, 1024](data, weights, bins, out_w, out_w2)\n",
    "        return Histogram(out_w, out_w2, bins)\n",
    "    \n",
    "    def __add__(self, other):\n",
    "        assert(cupy.all(self.edges == other.edges))\n",
    "        return Histogram(self.contents +  other.contents, self.edges)\n",
    "\n",
    "    def plot(self):\n",
    "        line = plt.step(self.edges[:-1], self.contents, where=\"mid\")\n",
    "        plt.errorbar(midpoints(self.edges), self.contents, np.sqrt(self.contents), lw=0, elinewidth=1, color=line[0].get_color())\n",
    "    \n",
    "    \n",
    "def get_histogram(data, weights, bins):\n",
    "    return Histogram.from_vector(data, weights, bins)\n",
    "\n",
    "\n",
    "class Results(dict):\n",
    "    \n",
    "    def __init__(self, *args, **kwargs):\n",
    "        super().__init__(*args, **kwargs)\n",
    "        \n",
    "    def __add__(self, other):\n",
    "        d0 = self\n",
    "        d1 = other\n",
    "        \n",
    "        d_ret = Results({})\n",
    "        k0 = set(d0.keys())\n",
    "        k1 = set(d1.keys())\n",
    "\n",
    "        for k in k0.intersection(k1):\n",
    "            d_ret[k] = d0[k] + d1[k]\n",
    "\n",
    "        for k in k0.difference(k1):\n",
    "            d_ret[k] = d0[k]\n",
    "\n",
    "        for k in k1.difference(k0):\n",
    "            d_ret[k] = d1[k]\n",
    "\n",
    "        return d_ret"
   ]
  },
  {
   "cell_type": "code",
   "execution_count": 58,
   "metadata": {},
   "outputs": [],
   "source": [
    "class JaggedStruct(object):\n",
    "    def __init__(self, offsets, attrs_data, numpy_lib=np):\n",
    "        self.numpy_lib = numpy_lib\n",
    "        \n",
    "        self.offsets = offsets\n",
    "        self.attrs_data = attrs_data\n",
    "        \n",
    "        num_items = None\n",
    "        for (k, v) in self.attrs_data.items():\n",
    "            num_items_next = len(v)\n",
    "            if num_items and num_items != num_items_next:\n",
    "                raise AttributeError(\"Mismatched attribute {0}\".format(k))\n",
    "            else:\n",
    "                num_items = num_items_next\n",
    "            setattr(self, k, v)\n",
    "        self.num_items = num_items\n",
    "    \n",
    "        self.masks = {}\n",
    "        self.masks[\"all\"] = self.make_mask()\n",
    "    \n",
    "    def make_mask(self):\n",
    "        return self.numpy_lib.ones(self.num_items, dtype=self.numpy_lib.bool)\n",
    "    \n",
    "    def mask(self, name):\n",
    "        if not name in self.masks.keys():\n",
    "            self.masks[name] = self.make_mask()\n",
    "        return self.masks[name]\n",
    "    \n",
    "    def size(self):\n",
    "        size_tot = self.offsets.size\n",
    "        for k, v in self.attrs_data.items():\n",
    "            size_tot += v.size\n",
    "        return size_tot\n",
    "    \n",
    "    def __len__(self):\n",
    "        return len(self.offsets) - 1\n",
    "    \n",
    "    @staticmethod\n",
    "    def from_arraydict(arraydict, prefix, numpy_lib=np):\n",
    "        ks = [k for k in arraydict.keys() if prefix in str(k, 'ascii')]\n",
    "        k0 = ks[0]\n",
    "        return JaggedStruct(\n",
    "            numpy_lib.array(arraydict[k0].offsets),\n",
    "            {str(k, 'ascii').replace(prefix, \"\"): numpy_lib.array(v.content)\n",
    "             for (k,v) in arraydict.items()},\n",
    "            numpy_lib=numpy_lib\n",
    "        )"
   ]
  },
  {
   "cell_type": "code",
   "execution_count": 25,
   "metadata": {},
   "outputs": [],
   "source": [
    "#https://github.com/CoffeaTeam/fnal-column-analysis-tools/blob/master/fnal_column_analysis_tools/lumi_tools/__init__.py\n",
    "class LumiMask(object):\n",
    "    \"\"\"\n",
    "        Class that parses a 'golden json' into an efficient valid lumiSection lookup table\n",
    "        Instantiate with the json file, and call with an array of runs and lumiSections, to\n",
    "        return a boolean array, where valid lumiSections are marked True\n",
    "    \"\"\"\n",
    "    def __init__(self, jsonfile):\n",
    "        with open(jsonfile) as fin:\n",
    "            goldenjson = json.load(fin)\n",
    "        self._masks = {}\n",
    "        for run, lumilist in goldenjson.items():\n",
    "            run = int(run)\n",
    "            mask = np.array(lumilist).flatten()\n",
    "            mask[::2] -= 1\n",
    "            self._masks[run] = mask\n",
    "\n",
    "    def __call__(self, runs, lumis):\n",
    "        mask = np.zeros(dtype='bool', shape=runs.shape)\n",
    "        for run in np.unique(runs):\n",
    "            if run in self._masks:\n",
    "                mask |= (np.searchsorted(self._masks[run], lumis)%2==1) & (runs==run)\n",
    "        return mask"
   ]
  },
  {
   "cell_type": "code",
   "execution_count": 26,
   "metadata": {},
   "outputs": [],
   "source": [
    "@cuda.jit\n",
    "def select_opposite_sign_muons_cudakernel(muon_charges_content, muon_charges_offsets, content_mask_in, content_mask_out):\n",
    "    xi = cuda.grid(1)\n",
    "    xstride = cuda.gridsize(1)\n",
    "    \n",
    "    for iev in range(xi, muon_charges_offsets.shape[0]-1, xstride):\n",
    "        start = muon_charges_offsets[iev]\n",
    "        end = muon_charges_offsets[iev + 1]\n",
    "        \n",
    "        ch1 = 0\n",
    "        idx1 = -1\n",
    "        ch2 = 0\n",
    "        idx2 = -1\n",
    "        \n",
    "        for imuon in range(start, end):\n",
    "            if not content_mask_in[imuon]:\n",
    "                continue\n",
    "                \n",
    "            if idx1 == -1:\n",
    "                ch1 = muon_charges_content[imuon]\n",
    "                idx1 = imuon\n",
    "                continue\n",
    "            else:\n",
    "                ch2 = muon_charges_content[imuon]\n",
    "                if (ch2 != ch1):\n",
    "                    idx2 = imuon\n",
    "                    content_mask_out[idx1] = 1\n",
    "                    content_mask_out[idx2] = 1\n",
    "                    break\n",
    "    return\n",
    "\n",
    "@cuda.jit\n",
    "def sum_in_offsets_cudakernel(content, offsets, mask_rows, mask_content, out):\n",
    "    xi = cuda.grid(1)\n",
    "    xstride = cuda.gridsize(1)\n",
    "\n",
    "    for iev in range(xi, offsets.shape[0]-1, xstride):\n",
    "        if not mask_rows[iev]:\n",
    "            continue\n",
    "            \n",
    "        start = offsets[iev]\n",
    "        end = offsets[iev + 1]\n",
    "        for ielem in range(start, end):\n",
    "            if mask_content[ielem]:\n",
    "                out[iev] += content[ielem]\n",
    "            \n",
    "@cuda.jit\n",
    "def max_in_offsets_cudakernel(content, offsets, mask_rows, mask_content, out):\n",
    "    xi = cuda.grid(1)\n",
    "    xstride = cuda.gridsize(1)\n",
    "\n",
    "    for iev in range(xi, offsets.shape[0]-1, xstride):\n",
    "        if not mask_rows[iev]:\n",
    "            continue\n",
    "            \n",
    "        start = offsets[iev]\n",
    "        end = offsets[iev + 1]\n",
    "    \n",
    "        first = True\n",
    "        accum = 0\n",
    "        \n",
    "        for ielem in range(start, end):\n",
    "            if mask_content[ielem]:\n",
    "                if first or content[ielem] > accum:\n",
    "                    accum = content[ielem]\n",
    "                    first = False\n",
    "        out[iev] = accum\n",
    "\n",
    "        \n",
    "@cuda.jit\n",
    "def min_in_offsets_cudakernel(content, offsets, mask_rows, mask_content, out):\n",
    "    xi = cuda.grid(1)\n",
    "    xstride = cuda.gridsize(1)\n",
    "\n",
    "    for iev in range(xi, offsets.shape[0]-1, xstride):\n",
    "        if not mask_rows[iev]:\n",
    "            continue\n",
    "            \n",
    "        start = offsets[iev]\n",
    "        end = offsets[iev + 1]\n",
    "    \n",
    "        first = True\n",
    "        accum = 0\n",
    "        \n",
    "        for ielem in range(start, end):\n",
    "            if mask_content[ielem]:\n",
    "                if first or content[ielem] < accum:\n",
    "                    accum = content[ielem]\n",
    "                    first = False\n",
    "        out[iev] = accum\n",
    "    \n",
    "@cuda.jit\n",
    "def get_in_offsets_cudakernel(content, offsets, indices, mask_rows, mask_content, out):\n",
    "    xi = cuda.grid(1)\n",
    "    xstride = cuda.gridsize(1)\n",
    "\n",
    "    for iev in range(xi, offsets.shape[0]-1, xstride):\n",
    "        if not mask_rows[iev]:\n",
    "            continue\n",
    "        start = offsets[iev]\n",
    "        end = offsets[iev + 1]\n",
    "        \n",
    "        index_to_get = 0\n",
    "        for ielem in range(start, end):\n",
    "            if mask_content[ielem]:\n",
    "                if index_to_get == indices[iev]:\n",
    "                    out[iev] = content[ielem]\n",
    "                    break\n",
    "                else:\n",
    "                    index_to_get += 1\n",
    "        \n",
    "@cuda.jit\n",
    "def min_in_offsets_cudakernel(content, offsets, mask_rows, mask_content, out):\n",
    "    xi = cuda.grid(1)\n",
    "    xstride = cuda.gridsize(1)\n",
    "\n",
    "    for iev in range(xi, offsets.shape[0]-1, xstride):\n",
    "        if not mask_rows[iev]:\n",
    "            continue\n",
    "            \n",
    "        start = offsets[iev]\n",
    "        end = offsets[iev + 1]\n",
    "    \n",
    "        first = True\n",
    "        accum = 0\n",
    "        \n",
    "        for ielem in range(start, end):\n",
    "            if mask_content[ielem]:\n",
    "                if first or content[ielem] < accum:\n",
    "                    accum = content[ielem]\n",
    "                    first = False\n",
    "        out[iev] = accum\n",
    "        \n",
    "def sum_in_offsets(struct, content, mask_rows, mask_content, dtype=None):\n",
    "    if not dtype:\n",
    "        dtype = content.dtype\n",
    "    sum_offsets = cupy.zeros(len(struct.offsets) - 1, dtype=dtype)\n",
    "    sum_in_offsets_cudakernel[32, 1024](content, struct.offsets, mask_rows, mask_content, sum_offsets)\n",
    "    cuda.synchronize()\n",
    "    return sum_offsets\n",
    "\n",
    "def max_in_offsets(struct, content, mask_rows, mask_content):\n",
    "    max_offsets = cupy.zeros(len(struct.offsets) - 1, dtype=content.dtype)\n",
    "    max_in_offsets_cudakernel[32, 1024](content, struct.offsets, mask_rows, mask_content, max_offsets)\n",
    "    cuda.synchronize()\n",
    "    return max_offsets\n",
    "\n",
    "def min_in_offsets(struct, content, mask_rows, mask_content):\n",
    "    max_offsets = cupy.zeros(len(struct.offsets) - 1, dtype=content.dtype)\n",
    "    min_in_offsets_cudakernel[32, 1024](content, struct.offsets, mask_rows, mask_content, max_offsets)\n",
    "    cuda.synchronize()\n",
    "    return max_offsets\n",
    "\n",
    "def select_muons_opposite_sign(muons, in_mask):\n",
    "    out_mask = cupy.invert(muons.make_mask())\n",
    "    select_opposite_sign_muons_cudakernel[32,1024](muons.charge, muons.offsets, in_mask, out_mask)\n",
    "    cuda.synchronize()\n",
    "    return out_mask\n",
    "\n",
    "def get_in_offsets(content, offsets, indices, mask_rows, mask_content):\n",
    "    out = cupy.zeros(len(offsets) - 1, dtype=content.dtype)\n",
    "    get_in_offsets_cudakernel[32, 1024](content, offsets, indices, mask_rows, mask_content, out)\n",
    "    cuda.synchronize()\n",
    "    return out\n"
   ]
  },
  {
   "cell_type": "code",
   "execution_count": 27,
   "metadata": {},
   "outputs": [],
   "source": [
    "def get_selected_muons(muons, mu_pt_cut_leading, mu_pt_cut_subleading, mu_iso_cut):\n",
    "    \n",
    "    passes_iso = muons.pfRelIso03_all < mu_iso_cut\n",
    "    passes_id = muons.mediumId == 1\n",
    "    passes_subleading_pt = muons.pt > mu_pt_cut_subleading\n",
    "    passes_leading_pt = muons.pt > mu_pt_cut_leading\n",
    "    \n",
    "    #select events with at least 2 muons passing cuts\n",
    "    muons_passing_id = passes_iso & passes_id & passes_subleading_pt\n",
    "    \n",
    "    events_all = cupy.ones(len(muons), dtype=cupy.bool)\n",
    "    events_passes_muid = sum_in_offsets(muons, muons_passing_id, events_all, muons.masks[\"all\"], cupy.int8) >= 2\n",
    "    events_passes_leading_pt = sum_in_offsets(muons, muons_passing_id & passes_leading_pt, events_all, muons.masks[\"all\"], cupy.int8) >= 1\n",
    "    events_passes_subleading_pt = sum_in_offsets(muons, muons_passing_id & passes_subleading_pt, events_all, muons.masks[\"all\"], cupy.int8) >= 2\n",
    "\n",
    "    base_event_sel = events_passes_muid & events_passes_leading_pt & events_passes_subleading_pt\n",
    "    \n",
    "    muons_passing_os = select_muons_opposite_sign(muons, muons_passing_id & passes_subleading_pt)\n",
    "    events_passes_os = sum_in_offsets(muons, muons_passing_os, events_all, muons.masks[\"all\"], cupy.int8) == 2\n",
    "    \n",
    "    final_event_sel = base_event_sel & events_passes_os\n",
    "    final_muon_sel = muons_passing_id & passes_subleading_pt & muons_passing_os\n",
    "    \n",
    "    return {\n",
    "         \"selected_events\": final_event_sel,\n",
    "         \"selected_muons\": final_muon_sel,\n",
    "    }"
   ]
  },
  {
   "cell_type": "code",
   "execution_count": 28,
   "metadata": {},
   "outputs": [],
   "source": [
    "\"\"\"\n",
    "For all events (N), mask the objects in the first collection (M1) if they are closer than dr2 to any object in the second collection (M2).\n",
    "\n",
    "    etas1: etas of the first object, array of (M1, )\n",
    "    phis1: phis of the first object, array of (M1, )\n",
    "    mask1: mask (enabled) of the first object, array of (M1, )\n",
    "    offsets1: offsets of the first object, array of (N, )\n",
    "\n",
    "    etas2: etas of the second object, array of (M2, )\n",
    "    phis2: phis of the second object, array of (M2, )\n",
    "    mask2: mask (enabled) of the second object, array of (M2, )\n",
    "    offsets2: offsets of the second object, array of (N, )\n",
    "    \n",
    "    mask_out: output mask, array of (M1, )\n",
    "\n",
    "\"\"\"\n",
    "@cuda.jit\n",
    "def mask_deltar_first_cudakernel(etas1, phis1, mask1, offsets1, etas2, phis2, mask2, offsets2, dr2, mask_out):\n",
    "    xi = cuda.grid(1)\n",
    "    xstride = cuda.gridsize(1)\n",
    "    \n",
    "    for iev in range(xi, len(offsets1)-1, xstride):\n",
    "        a1 = offsets2[iev]\n",
    "        b1 = offsets2[iev+1]\n",
    "        \n",
    "        a2 = offsets2[iev]\n",
    "        b2 = offsets2[iev+1]\n",
    "        \n",
    "        for idx1 in range(a1, b1):\n",
    "            if not mask1[idx1]:\n",
    "                continue\n",
    "                \n",
    "            eta1 = etas1[idx1]\n",
    "            phi1 = phis1[idx1]\n",
    "            for idx2 in range(a2, b2):\n",
    "                if not mask2[idx2]:\n",
    "                    continue\n",
    "                eta2 = etas2[idx2]\n",
    "                phi2 = phis2[idx2]\n",
    "                \n",
    "                deta = abs(eta1 - eta2)\n",
    "                dphi = (phi1 - phi2 + math.pi) % (2*math.pi) - math.pi\n",
    "                \n",
    "                #if first object is closer than dr2, mask element will be *disabled*\n",
    "                passdr = ((deta**2 + dphi**2) < dr2)\n",
    "                mask_out[idx1] = not passdr\n",
    "                \n",
    "def mask_deltar_first(objs1, mask1, objs2, mask2, drcut):\n",
    "    assert(mask1.shape == objs1.eta.shape)\n",
    "    assert(mask2.shape == objs2.eta.shape)\n",
    "    assert(objs1.offsets.shape == objs2.offsets.shape)\n",
    "    \n",
    "    mask_out = cupy.ones_like(objs1.eta, dtype=cupy.bool)\n",
    "    mask_deltar_first_cudakernel[32, 1024](\n",
    "        objs1.eta, objs1.phi, mask1, objs1.offsets,\n",
    "        objs2.eta, objs2.phi, mask2, objs2.offsets,\n",
    "        drcut**2, mask_out\n",
    "    )\n",
    "    cuda.synchronize()\n",
    "    return mask_out"
   ]
  },
  {
   "cell_type": "code",
   "execution_count": 29,
   "metadata": {},
   "outputs": [],
   "source": [
    "def get_selected_jets(jets, muons, mask_muons, jet_pt_cut, jet_eta_cut, dr_cut):\n",
    "    events_all = cupy.ones(len(jets), dtype=cupy.bool)\n",
    "\n",
    "    jets_pass_dr = mask_deltar_first(jets, jets.masks[\"all\"], muons, mask_muons, dr_cut)\n",
    "    jets.masks[\"pass_dr\"] = jets_pass_dr\n",
    "    selected_jets = (jets.pt > jet_pt_cut) & (cupy.abs(jets.eta) < jet_eta_cut) & (((jets.jetId & 2)>>1)==1) & jets_pass_dr\n",
    "\n",
    "    num_jets = sum_in_offsets(jets, selected_jets, events_all, jets.masks[\"all\"], cupy.int8)\n",
    "\n",
    "    return {\n",
    "        \"selected_jets\": selected_jets,\n",
    "        \"num_jets\": num_jets\n",
    "    }"
   ]
  },
  {
   "cell_type": "code",
   "execution_count": 30,
   "metadata": {},
   "outputs": [],
   "source": [
    "def compute_inv_mass(objects, mask_events, mask_objects):\n",
    "    pt = objects.pt\n",
    "    eta = objects.eta\n",
    "    phi = objects.phi\n",
    "    mass = objects.mass\n",
    "\n",
    "    px = pt * cupy.cos(phi)\n",
    "    py = pt * cupy.sin(phi)\n",
    "    pz = pt * cupy.sinh(eta)\n",
    "\n",
    "    px_total = sum_in_offsets(objects, px, mask_events, mask_objects)\n",
    "    py_total = sum_in_offsets(objects, py, mask_events, mask_objects)\n",
    "    pz_total = sum_in_offsets(objects, pz, mask_events, mask_objects)\n",
    "    mass_total = sum_in_offsets(objects, mass, mask_events, mask_objects)\n",
    "\n",
    "    inv_mass = cupy.sqrt(px_total**2 + py_total**2 + pz_total**2 - mass_total**2)\n",
    "    return inv_mass"
   ]
  },
  {
   "cell_type": "code",
   "execution_count": 31,
   "metadata": {},
   "outputs": [],
   "source": [
    "def analyze_data(\n",
    "    muons, jets,\n",
    "    mu_pt_cut_leading=26, mu_pt_cut_subleading=10,\n",
    "    mu_iso_cut=0.3, jet_pt_cut=30,\n",
    "    jet_eta_cut=4.1, jet_mu_drcut=0.2, doverify=True\n",
    "    ):\n",
    "\n",
    "    #get the two leading muons after applying all muon selection\n",
    "    ret_mu = get_selected_muons(muons, mu_pt_cut_leading, mu_pt_cut_subleading, mu_iso_cut)\n",
    "    \n",
    "    if doverify:\n",
    "        z = sum_in_offsets(muons, ret_mu[\"selected_muons\"], ret_mu[\"selected_events\"], ret_mu[\"selected_muons\"], dtype=cupy.int8)\n",
    "        assert(cupy.all(z[z!=0] == 2))\n",
    "\n",
    "    #get the passing jets for events that pass muon selection\n",
    "    ret_jet = get_selected_jets(jets, muons, ret_mu[\"selected_muons\"], jet_pt_cut, jet_eta_cut, jet_mu_drcut)    \n",
    "    if doverify:\n",
    "        z = min_in_offsets(jets, jets.pt, ret_mu[\"selected_events\"], ret_jet[\"selected_jets\"])\n",
    "        assert(cupy.all(z[z>0] > jet_pt_cut))\n",
    "\n",
    "        \n",
    "    inv_mass = compute_inv_mass(muons, ret_mu[\"selected_events\"], ret_mu[\"selected_muons\"])\n",
    "    \n",
    "    inds = 0*cupy.ones(len(muons), dtype=cupy.int32)\n",
    "    leading_muon_pt = get_in_offsets(muons.pt, muons.offsets, inds, ret_mu[\"selected_events\"], ret_mu[\"selected_muons\"])\n",
    "    leading_muon_eta = get_in_offsets(muons.eta, muons.offsets, inds, ret_mu[\"selected_events\"], ret_mu[\"selected_muons\"])\n",
    "    leading_jet_pt = get_in_offsets(jets.pt, jets.offsets, inds, ret_mu[\"selected_events\"], ret_jet[\"selected_jets\"])\n",
    "    leading_jet_eta = get_in_offsets(jets.eta, jets.offsets, inds, ret_mu[\"selected_events\"], ret_jet[\"selected_jets\"])\n",
    "    \n",
    "    inds[:] = 1\n",
    "    subleading_muon_pt = get_in_offsets(muons.pt, muons.offsets, inds, ret_mu[\"selected_events\"], ret_mu[\"selected_muons\"])\n",
    "    subleading_muon_eta = get_in_offsets(muons.eta, muons.offsets, inds, ret_mu[\"selected_events\"], ret_mu[\"selected_muons\"])\n",
    "    subleading_jet_pt = get_in_offsets(jets.pt, jets.offsets, inds, ret_mu[\"selected_events\"], ret_jet[\"selected_jets\"])\n",
    "    subleading_jet_eta = get_in_offsets(jets.eta, jets.offsets, inds, ret_mu[\"selected_events\"], ret_jet[\"selected_jets\"])\n",
    "    \n",
    "    if doverify:\n",
    "        assert(cupy.all(leading_muon_pt[leading_muon_pt>0] > mu_pt_cut_leading))\n",
    "        assert(cupy.all(subleading_muon_pt[subleading_muon_pt>0] > mu_pt_cut_subleading))\n",
    "\n",
    "    \n",
    "    weights = cupy.ones(len(muons), dtype=cupy.float32)\n",
    "    hist_inv_mass_d = get_histogram(inv_mass[ret_mu[\"selected_events\"]], weights, cupy.linspace(0,500,201))\n",
    "\n",
    "    #get histograms of leading and subleading muon momenta\n",
    "    hist_leading_muon_pt_d = get_histogram(leading_muon_pt[ret_mu[\"selected_events\"]], weights, cupy.linspace(0.0, 200.0, 401))\n",
    "    hist_subleading_muon_pt_d = get_histogram(subleading_muon_pt[ret_mu[\"selected_events\"]], weights, cupy.linspace(0.0, 200.0, 401))\n",
    "\n",
    "    #get histograms of leading and subleading muon eta\n",
    "    hist_leading_muon_eta_d = get_histogram(leading_muon_eta[ret_mu[\"selected_events\"]], weights, cupy.linspace(-4.0, 4.0, 401))\n",
    "    hist_subleading_muon_eta_d = get_histogram(subleading_muon_eta[ret_mu[\"selected_events\"]], weights, cupy.linspace(-4.0, 4.0, 401))\n",
    "\n",
    "    hist_leading_jet_pt_d = get_histogram(leading_jet_pt[ret_mu[\"selected_events\"] & (ret_jet[\"num_jets\"]>=1)], weights, cupy.linspace(0, 300.0, 401))\n",
    "    hist_subleading_jet_pt_d = get_histogram(subleading_jet_pt[ret_mu[\"selected_events\"] & (ret_jet[\"num_jets\"]>=2)], weights, cupy.linspace(0, 300.0, 401))\n",
    "\n",
    "    return {\n",
    "        \"ret_mu\": ret_mu,\n",
    "        \"ret_jet\": ret_jet,\n",
    "        \"leading_jet_pt\": leading_jet_pt,\n",
    "        \"hist_inv_mass_d\": hist_inv_mass_d,\n",
    "        \"hist_mu0_pt\": hist_leading_muon_pt_d,\n",
    "        \"hist_mu1_pt\": hist_subleading_muon_pt_d,\n",
    "        \n",
    "        \"hist_mu0_eta\": hist_leading_muon_eta_d,\n",
    "        \"hist_mu1_eta\": hist_subleading_muon_eta_d,\n",
    "        \n",
    "#         #\"hist_dimuon_mass_gen\": hist_inv_mass_gen_d,        \n",
    "#         \"hist_dimuon_mass\": hist_inv_mass_d,        \n",
    "        \n",
    "        \"hist_leading_jet_pt\": hist_leading_jet_pt_d,        \n",
    "        \"hist_subleading_jet_pt\": hist_subleading_jet_pt_d,        \n",
    "    }"
   ]
  },
  {
   "cell_type": "code",
   "execution_count": 59,
   "metadata": {},
   "outputs": [],
   "source": [
    "def make_objects_gpu(arrs):\n",
    "    muons = JaggedStruct.from_arraydict(\n",
    "        {k: v for k, v in arrs.items() if \"Muon_\" in str(k)},\n",
    "        \"Muon_\", cupy\n",
    "    )\n",
    "    jets = JaggedStruct.from_arraydict({\n",
    "        k: v for k, v in arrs.items() if \"Jet_\" in str(k)\n",
    "        }, \"Jet_\", cupy\n",
    "    )\n",
    "    return muons, jets"
   ]
  },
  {
   "cell_type": "code",
   "execution_count": 60,
   "metadata": {},
   "outputs": [
    {
     "name": "stdout",
     "output_type": "stream",
     "text": [
      "9245908992\n",
      "9276431360\n",
      "85\n"
     ]
    }
   ],
   "source": [
    "mempool = cupy.get_default_memory_pool()\n",
    "pinned_mempool = cupy.get_default_pinned_memory_pool()\n",
    "\n",
    "print(mempool.used_bytes())\n",
    "print(mempool.total_bytes())\n",
    "print(pinned_mempool.n_free_blocks())\n"
   ]
  },
  {
   "cell_type": "code",
   "execution_count": 71,
   "metadata": {},
   "outputs": [
    {
     "name": "stdout",
     "output_type": "stream",
     "text": [
      "Transferred 1.27E+00 GB to the GPU in 0.73 seconds\n"
     ]
    }
   ],
   "source": [
    "if \"objs\" in globals().keys():\n",
    "    del objs\n",
    "    \n",
    "t0 = time.time()\n",
    "objs = {\n",
    "    k: [make_objects_gpu(arr) for arr in preloaded_data[k]]\n",
    "    for k in preloaded_data.keys()\n",
    "}\n",
    "t1 = time.time()\n",
    "dt = t1 - t0\n",
    "\n",
    "size_tot = 0\n",
    "for k in objs.keys():\n",
    "    for eventcoll in objs[k]:\n",
    "        for structcoll in eventcoll:\n",
    "            size_tot += structcoll.size()\n",
    "\n",
    "size_tot = size_tot/1024/1024/1024\n",
    "print(\"Transferred {0:.2E} GB to the GPU in {1:.2f} seconds\".format(size_tot, dt))"
   ]
  },
  {
   "cell_type": "code",
   "execution_count": 36,
   "metadata": {},
   "outputs": [
    {
     "name": "stdout",
     "output_type": "stream",
     "text": [
      "processed 2.11E+07 events in 2.64s, speed 8.02E+06 Hz\n",
      "| 22%   53C    P2    92W / 250W |   4423MiB / 12210MiB |      0%      Default |\n",
      "|    0      7415      C   /usr/bin/python3                             232MiB |\n",
      "|    0     20866      C   /usr/bin/python3                            4178MiB |\n"
     ]
    }
   ],
   "source": [
    "t0 = time.time()\n",
    "ret = {\n",
    "    k: [analyze_data(muons, jets, mu_pt_cut_leading=30, doverify=True) for muons, jets in objs[k]]\n",
    "    for k in objs.keys()\n",
    "}\n",
    "t1 = time.time()\n",
    "dt = t1 - t0\n",
    "\n",
    "nev = 0\n",
    "for k in objs.keys():\n",
    "    for isamp in range(len(objs[k])):\n",
    "        nev += len(objs[k][isamp][0])\n",
    "#nev = sum([[len(o[0]) for o in objs[k]] for k in objs.keys()])\n",
    "print(\"processed {0:.2E} events in {1:.2f}s, speed {2:.2E} Hz\".format(nev, dt, nev/dt))\n",
    "!nvidia-smi | grep MiB"
   ]
  },
  {
   "cell_type": "code",
   "execution_count": 37,
   "metadata": {},
   "outputs": [
    {
     "data": {
      "text/plain": [
       "(400,)"
      ]
     },
     "execution_count": 37,
     "metadata": {},
     "output_type": "execute_result"
    }
   ],
   "source": [
    "midpoints(ret[\"ggh\"][0][\"hist_subleading_jet_pt\"].edges).shape"
   ]
  },
  {
   "cell_type": "code",
   "execution_count": 38,
   "metadata": {},
   "outputs": [
    {
     "data": {
      "text/plain": [
       "[<matplotlib.lines.Line2D at 0x7f9f02c13630>]"
      ]
     },
     "execution_count": 38,
     "metadata": {},
     "output_type": "execute_result"
    },
    {
     "data": {
      "image/png": "[encoded data removed]",
      "text/plain": [
       "<Figure size 432x288 with 1 Axes>"
      ]
     },
     "metadata": {
      "needs_background": "light"
     },
     "output_type": "display_data"
    }
   ],
   "source": [
    "plt.plot(midpoints(ret[\"ggh\"][0][\"hist_subleading_jet_pt\"].edges), ret[\"ggh\"][0][\"hist_subleading_jet_pt\"].contents)\n",
    "#plt.plot(midpoints(ret[\"hist_subleading_jet_pt\"].edges), ret[\"hist_subleading_jet_pt\"].contents)"
   ]
  },
  {
   "cell_type": "code",
   "execution_count": 39,
   "metadata": {},
   "outputs": [
    {
     "data": {
      "text/plain": [
       "[<matplotlib.lines.Line2D at 0x7f9f01d021d0>]"
      ]
     },
     "execution_count": 39,
     "metadata": {},
     "output_type": "execute_result"
    },
    {
     "data": {
      "image/png": "[encoded data removed]",
      "text/plain": [
       "<Figure size 432x288 with 1 Axes>"
      ]
     },
     "metadata": {
      "needs_background": "light"
     },
     "output_type": "display_data"
    }
   ],
   "source": [
    "plt.plot(midpoints(ret[\"ggh\"][0][\"hist_mu0_eta\"].edges), ret[\"ggh\"][0][\"hist_mu0_eta\"].contents)\n",
    "plt.plot(midpoints(ret[\"ggh\"][0][\"hist_mu1_eta\"].edges), ret[\"ggh\"][0][\"hist_mu1_eta\"].contents)"
   ]
  },
  {
   "cell_type": "code",
   "execution_count": null,
   "metadata": {},
   "outputs": [],
   "source": []
  }
 ],
 "metadata": {
  "kernelspec": {
   "display_name": "Python 3",
   "language": "python",
   "name": "python3"
  },
  "language_info": {
   "codemirror_mode": {
    "name": "ipython",
    "version": 3
   },
   "file_extension": ".py",
   "mimetype": "text/x-python",
   "name": "python",
   "nbconvert_exporter": "python",
   "pygments_lexer": "ipython3",
   "version": "3.5.2"
  }
 },
 "nbformat": 4,
 "nbformat_minor": 2
}
